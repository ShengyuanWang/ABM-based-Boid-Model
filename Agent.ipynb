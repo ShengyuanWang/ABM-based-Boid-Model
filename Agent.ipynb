{
 "cells": [
  {
   "cell_type": "markdown",
   "source": [
    "# Agent Based Model for Bird Flock Problem (2-D Version)"
   ],
   "metadata": {
    "collapsed": false
   }
  },
  {
   "cell_type": "markdown",
   "source": [
    "## Set up Boid Agent"
   ],
   "metadata": {
    "collapsed": false
   }
  },
  {
   "cell_type": "code",
   "execution_count": 1,
   "outputs": [],
   "source": [
    "class Boid:\n",
    "  def __init__(self):\n",
    "    self.x = 0 # x-position\n",
    "    self.y = 0 # y-position\n",
    "    self.vx = 0 # x-velocity\n",
    "    self.vy = 0 # y-velocity\n",
    "\n",
    "boids = [Boid() for i in range(100)] # Create 100 boids"
   ],
   "metadata": {
    "collapsed": false,
    "ExecuteTime": {
     "end_time": "2023-11-14T19:38:17.808045Z",
     "start_time": "2023-11-14T19:38:17.679379Z"
    }
   }
  },
  {
   "cell_type": "markdown",
   "source": [
    "## Set up the Parameters"
   ],
   "metadata": {
    "collapsed": false
   }
  },
  {
   "cell_type": "code",
   "execution_count": 2,
   "outputs": [],
   "source": [
    "# Static Parameters\n",
    "turnFactor = 0.01  # How much the boids can turn (Default: 0.01, static)\n",
    "visualRange = 40  # How far the boids can see (Default: 40, static)\n",
    "protectionRange = 8  # How far the boids can keep away from each other (Default: 8, static)\n",
    "centeringFactor = 0.0005  # How much the boids move towards the center (Default: 0.0005, static)\n",
    "avoidFactor = 0.05  # How much the boids avoid each other (Default: 0.05, static)\n",
    "matchingFactor = 0.05  # How much the boids match each other's speed (Default: 0.05, static)\n",
    "maxSpeed, minSpeed = 6, 3  # Maximum and minimum speed of the boids (Default: 6, 3, static)\n",
    "maxBias = 0.01  # Maximum bias value for the boids to move towards the center (Default: 0.01, static)\n",
    "biasIncrement = 0.00004  # How much the bias value increases each time (Default: 0.00004, static)\n",
    "# Dynamic Parameters\n",
    "biasValue = 0.001  # Bias value for the boids to move towards the center (Default: 0.001, changable)"
   ],
   "metadata": {
    "collapsed": false,
    "ExecuteTime": {
     "end_time": "2023-11-14T19:44:15.451276Z",
     "start_time": "2023-11-14T19:44:15.422311Z"
    }
   }
  },
  {
   "cell_type": "markdown",
   "source": [
    "## Set up Boid Behaviors (Functions)"
   ],
   "metadata": {
    "collapsed": false
   }
  },
  {
   "cell_type": "markdown",
   "source": [
    "#### Helper Functions"
   ],
   "metadata": {
    "collapsed": false
   }
  },
  {
   "cell_type": "code",
   "execution_count": 6,
   "outputs": [],
   "source": [
    "def distance(boid1, boid2):\n",
    "  \"\"\"\n",
    "    Calculate the distance between two boids\n",
    "  :param boid1: the first boid\n",
    "  :param boid2: the second boid\n",
    "  :return: the distance between the two boids\n",
    "  \"\"\"\n",
    "  return ((boid1.x - boid2.x)**2 + (boid1.y - boid2.y)**2)**0.5"
   ],
   "metadata": {
    "collapsed": false,
    "ExecuteTime": {
     "end_time": "2023-11-14T20:05:14.376663Z",
     "start_time": "2023-11-14T20:05:14.351249Z"
    }
   }
  },
  {
   "cell_type": "markdown",
   "source": [
    "#### Separation"
   ],
   "metadata": {
    "collapsed": false
   }
  },
  {
   "cell_type": "code",
   "execution_count": 7,
   "outputs": [],
   "source": [
    "def separation(boid, boids):\n",
    "  \"\"\"\n",
    "    Calculate the velocity of the boid to avoid other boids\n",
    "  :param boid: the boid to calculate the velocity\n",
    "  :param boids: all the boids\n",
    "  :return: the velocity of the boid (x-velocity, y-velocity)\n",
    "  \"\"\"\n",
    "  closeDistanceX, closeDistanceY = 0, 0\n",
    "  numBoids = 0\n",
    "  for otherBoid in boids:\n",
    "    if otherBoid != boid and distance(boid, otherBoid) < protectionRange:\n",
    "        closeDistanceX += boid.x - otherBoid.x\n",
    "        closeDistanceY += boid.y - otherBoid.y\n",
    "        numBoids += 1\n",
    "  if numBoids > 0:\n",
    "    boid.vx = closeDistanceX * avoidFactor\n",
    "    boid.vy = closeDistanceY * avoidFactor\n",
    "  return boid.vx, boid.vy"
   ],
   "metadata": {
    "collapsed": false,
    "ExecuteTime": {
     "end_time": "2023-11-14T20:05:27.572090Z",
     "start_time": "2023-11-14T20:05:27.566689Z"
    }
   }
  },
  {
   "cell_type": "markdown",
   "source": [
    "#### Alignment"
   ],
   "metadata": {
    "collapsed": false
   }
  },
  {
   "cell_type": "code",
   "execution_count": 8,
   "outputs": [],
   "source": [
    "def alignment(boid, boids):\n",
    "  \"\"\"\n",
    "    Calculate the velocity of the boid to match the velocity of other boids\n",
    "  :param boid: the boid to calculate the velocity\n",
    "  :param boids: all the boids\n",
    "  :return: the velocity of the boid (x-velocity, y-velocity)\n",
    "  \"\"\"\n",
    "  avgVx, avgVy = 0, 0\n",
    "  numBoids = 0\n",
    "  for otherBoid in boids:\n",
    "    if otherBoid != boid and distance(boid, otherBoid) < visualRange:\n",
    "      avgVx += otherBoid.vx\n",
    "      avgVy += otherBoid.vy\n",
    "      numBoids += 1\n",
    "  if numBoids > 0:\n",
    "    avgVx /= numBoids\n",
    "    avgVy /= numBoids\n",
    "    boid.vx += (avgVx - boid.vx) * matchingFactor\n",
    "    boid.vy += (avgVy - boid.vy) * matchingFactor\n",
    "  return boid.vx, boid.vy"
   ],
   "metadata": {
    "collapsed": false,
    "ExecuteTime": {
     "end_time": "2023-11-14T20:05:31.146080Z",
     "start_time": "2023-11-14T20:05:31.120429Z"
    }
   }
  },
  {
   "cell_type": "markdown",
   "source": [
    "#### Cohesion"
   ],
   "metadata": {
    "collapsed": false
   }
  },
  {
   "cell_type": "code",
   "execution_count": 9,
   "outputs": [],
   "source": [
    "def cohension(boid, boids):\n",
    "  \"\"\"\n",
    "    Calculate the velocity of the boid to move towards the center of other boids\n",
    "  :param boid: the boid to calculate the velocity\n",
    "  :param boids: all the boids\n",
    "  :return: the velocity of the boid (x-velocity, y-velocity)\n",
    "  \"\"\"\n",
    "  centeringX, centeringY = 0, 0\n",
    "  numBoids = 0\n",
    "  for otherBoid in boids:\n",
    "    if otherBoid != boid and distance(boid, otherBoid) < visualRange:\n",
    "      centeringX += otherBoid.x\n",
    "      centeringY += otherBoid.y\n",
    "      numBoids += 1\n",
    "  if numBoids > 0:\n",
    "    centeringX /= numBoids\n",
    "    centeringY /= numBoids\n",
    "    boid.vx += (centeringX - boid.x) * centeringFactor\n",
    "    boid.vy += (centeringY - boid.y) * centeringFactor\n",
    "  return boid.vx, boid.vy"
   ],
   "metadata": {
    "collapsed": false,
    "ExecuteTime": {
     "end_time": "2023-11-14T20:05:32.159652Z",
     "start_time": "2023-11-14T20:05:32.155771Z"
    }
   }
  },
  {
   "cell_type": "markdown",
   "source": [
    "#### Edge Turning"
   ],
   "metadata": {
    "collapsed": false
   }
  },
  {
   "cell_type": "code",
   "execution_count": 10,
   "outputs": [],
   "source": [
    "def edgeTurning(boid, leftMargin, rightMargin, bottomMargin, topMargin):\n",
    "  \"\"\"\n",
    "    Calculate the velocity of the boid to turn away from the edge of the screen\n",
    "  :param boid: the boid to calculate the velocity\n",
    "  :return: the velocity of the boid (x-velocity, y-velocity)\n",
    "  \"\"\"\n",
    "  if boid.x < leftMargin:\n",
    "    boid.vx += turnFactor\n",
    "  elif boid.x > rightMargin:\n",
    "    boid.vx -= turnFactor\n",
    "  if boid.y < bottomMargin:\n",
    "    boid.vy += turnFactor\n",
    "  elif boid.y > topMargin:\n",
    "    boid.vy -= turnFactor\n",
    "  return boid.vx, boid.vy"
   ],
   "metadata": {
    "collapsed": false,
    "ExecuteTime": {
     "end_time": "2023-11-14T20:05:34.132519Z",
     "start_time": "2023-11-14T20:05:34.126635Z"
    }
   }
  },
  {
   "cell_type": "markdown",
   "source": [
    "#### Bias"
   ],
   "metadata": {
    "collapsed": false
   }
  },
  {
   "cell_type": "code",
   "execution_count": 11,
   "outputs": [],
   "source": [
    "def bias(boid):\n",
    "    \"\"\"\n",
    "        Calculate the velocity of the boid to move towards the center of the screen\n",
    "    :param boid: the boid to calculate the velocity\n",
    "    :return: the velocity of the boid (x-velocity, y-velocity)\n",
    "    \"\"\"\n",
    "    boid.vx += (1-biasValue) * boid.vx + biasValue\n",
    "    boid.vy += (1-biasValue) * boid.vy + biasValue\n",
    "    #TODO: we can make the bias value change over time\n",
    "    return boid.vx, boid.vy"
   ],
   "metadata": {
    "collapsed": false,
    "ExecuteTime": {
     "end_time": "2023-11-14T20:05:35.334044Z",
     "start_time": "2023-11-14T20:05:35.330641Z"
    }
   }
  },
  {
   "cell_type": "markdown",
   "source": [
    "#### Speed Limit"
   ],
   "metadata": {
    "collapsed": false
   }
  },
  {
   "cell_type": "code",
   "execution_count": 12,
   "outputs": [],
   "source": [
    "def speedLimit(boid):\n",
    "  \"\"\"\n",
    "    Calculate the velocity of the boid to limit the speed\n",
    "  :param boid: the boid to calculate the velocity\n",
    "  :return: the velocity of the boid (x-velocity, y-velocity)\n",
    "  \"\"\"\n",
    "  speed = (boid.vx**2 + boid.vy**2)**0.5\n",
    "  if speed > maxSpeed:\n",
    "    boid.vx *= maxSpeed / speed\n",
    "    boid.vy *= maxSpeed / speed\n",
    "  elif speed < minSpeed:\n",
    "    boid.vx *= minSpeed / speed\n",
    "    boid.vy *= minSpeed / speed\n",
    "  return boid.vx, boid.vy"
   ],
   "metadata": {
    "collapsed": false,
    "ExecuteTime": {
     "end_time": "2023-11-14T20:05:36.813890Z",
     "start_time": "2023-11-14T20:05:36.769484Z"
    }
   }
  },
  {
   "cell_type": "markdown",
   "source": [
    "#### Update Boid Velocity and Position"
   ],
   "metadata": {
    "collapsed": false
   }
  },
  {
   "cell_type": "code",
   "execution_count": 13,
   "outputs": [],
   "source": [
    "def updateBoid(boid, boids, leftMargin, rightMargin, bottomMargin, topMargin):\n",
    "  \"\"\"\n",
    "    Update the velocity and position of the boid\n",
    "  :param boid: the boid to update\n",
    "  :param boids: all the boids\n",
    "  :return: the updated boid\n",
    "  \"\"\"\n",
    "  boid.vx, boid.vy = separation(boid, boids)\n",
    "  boid.vx, boid.vy = alignment(boid, boids)\n",
    "  boid.vx, boid.vy = cohension(boid, boids)\n",
    "  boid.vx, boid.vy = edgeTurning(boid, leftMargin, rightMargin, bottomMargin, topMargin)\n",
    "  boid.vx, boid.vy = bias(boid)\n",
    "  boid.vx, boid.vy = speedLimit(boid)\n",
    "  boid.x += boid.vx\n",
    "  boid.y += boid.vy\n",
    "  return boid"
   ],
   "metadata": {
    "collapsed": false,
    "ExecuteTime": {
     "end_time": "2023-11-14T20:06:44.559820Z",
     "start_time": "2023-11-14T20:06:44.454826Z"
    }
   }
  },
  {
   "cell_type": "markdown",
   "source": [
    "## Set up Visualisation"
   ],
   "metadata": {
    "collapsed": false
   }
  },
  {
   "cell_type": "code",
   "execution_count": 23,
   "outputs": [
    {
     "data": {
      "text/plain": "0"
     },
     "execution_count": 23,
     "metadata": {},
     "output_type": "execute_result"
    }
   ],
   "source": [
    "import numpy as np\n",
    "from numpy import random\n",
    "from pyqtgraph.Qt import QtGui, QtCore\n",
    "import pyqtgraph as pg\n",
    "\n",
    "app = pg.mkQApp(\"Plotting Example\")\n",
    "pg.plot(np.random.normal(size=100), title=\"Simplest possible plotting example\")\n",
    "pg.exec()\n"
   ],
   "metadata": {
    "collapsed": false,
    "ExecuteTime": {
     "end_time": "2023-11-14T20:46:04.160067Z",
     "start_time": "2023-11-14T20:33:58.328476Z"
    }
   }
  },
  {
   "cell_type": "code",
   "execution_count": null,
   "outputs": [],
   "source": [],
   "metadata": {
    "collapsed": false
   }
  }
 ],
 "metadata": {
  "kernelspec": {
   "display_name": "Python 3",
   "language": "python",
   "name": "python3"
  },
  "language_info": {
   "codemirror_mode": {
    "name": "ipython",
    "version": 2
   },
   "file_extension": ".py",
   "mimetype": "text/x-python",
   "name": "python",
   "nbconvert_exporter": "python",
   "pygments_lexer": "ipython2",
   "version": "2.7.6"
  }
 },
 "nbformat": 4,
 "nbformat_minor": 0
}
